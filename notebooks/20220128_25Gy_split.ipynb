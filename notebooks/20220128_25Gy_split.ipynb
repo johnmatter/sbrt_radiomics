{
 "cells": [
  {
   "cell_type": "code",
   "execution_count": 1,
   "id": "c37a7401",
   "metadata": {},
   "outputs": [],
   "source": [
    "import os\n",
    "import matplotlib.pyplot as plt\n",
    "import pandas as pd\n",
    "import numpy as np\n",
    "import seaborn as sns\n",
    "import nrrd\n",
    "import copy\n",
    "\n",
    "sns.set_style(\"whitegrid\")\n",
    "sns.set_palette(sns.color_palette(\"Set1\"))"
   ]
  },
  {
   "cell_type": "code",
   "execution_count": 2,
   "id": "80450b78",
   "metadata": {},
   "outputs": [
    {
     "name": "stdout",
     "output_type": "stream",
     "text": [
      "FJ\n",
      "BE\n",
      "MJ1\n"
     ]
    }
   ],
   "source": [
    "patients=['FJ', 'BE', 'MJ1']\n",
    "top_dir=\"/Volumes/ssd750/radiomics/sbrt_radiomics/data\"\n",
    "\n",
    "for patient in patients:\n",
    "    print(patient)\n",
    "    patient_dir = os.path.join(top_dir,patient)\n",
    "    \n",
    "    for dir_item in os.listdir(patient_dir):\n",
    "        d = os.path.join(patient_dir, dir_item)\n",
    "        \n",
    "        if os.path.isdir(d):\n",
    "            radiomics_dir = os.path.join(patient_dir, d, 'radiomics')\n",
    "            \n",
    "            for csv_item in os.listdir(radiomics_dir):\n",
    "                if os.path.splitext(csv_item)[1] == '.csv':\n",
    "                    df_temp = pd.read_csv(os.path.join(radiomics_dir, csv_item))\n",
    "                    df_temp['timepoint'] = str(os.path.basename(dir_item))\n",
    "                    df_temp['patient'] = patient\n",
    "                    \n",
    "                    if 'df' in locals():\n",
    "                        df = pd.concat([df, df_temp])\n",
    "                    else:\n",
    "                        df = copy.deepcopy(df_temp)\n",
    "\n",
    "df.reset_index(drop=True, inplace=True)"
   ]
  },
  {
   "cell_type": "code",
   "execution_count": 3,
   "id": "4f3a8b1f",
   "metadata": {},
   "outputs": [],
   "source": [
    "# Asign dummy variable for time ordering\n",
    "\n",
    "# Assume we only have Pre and PostN where N is NOT a left-zero-padded integer\n",
    "timepoints_order = list(set(df['timepoint']))\n",
    "timepoints_order.remove('Pre')\n",
    "timepoints_order = [int(x.replace('Post','')) for x in timepoints_order]\n",
    "timepoints_order.sort()\n",
    "timepoints_order = ['Post%d' % x for x in timepoints_order]\n",
    "timepoints_order.insert(0,'Pre')\n",
    "\n",
    "timepoints_map = {idx: timepoint for timepoint,idx in enumerate(timepoints_order)}\n",
    "df['time_index'] = df['timepoint'].map(timepoints_map)\n",
    "df.reset_index(drop=True, inplace=True)"
   ]
  },
  {
   "cell_type": "code",
   "execution_count": 19,
   "id": "00a4478c",
   "metadata": {},
   "outputs": [
    {
     "data": {
      "text/plain": [
       "<Figure size 432x288 with 0 Axes>"
      ]
     },
     "metadata": {},
     "output_type": "display_data"
    }
   ],
   "source": [
    "fig_dir=\"/Volumes/ssd750/radiomics/CCR_phantom/radiomics/notebooks/20220128\"\n",
    "\n",
    "fig = plt.figure()\n",
    "\n",
    "cols_to_plot = list(df.columns[df.columns.str.startswith(\"original\")])\n",
    "for feature in cols_to_plot:\n",
    "   \n",
    "    sns.relplot(data=df[(df['mask']=='Aorta_wall_JM.nrrd') | (df['mask']=='Aorta_wall_JM2.nrrd')],\n",
    "                    x='time_index',\n",
    "                    y=feature,\n",
    "                    hue='dose_bin',\n",
    "                    style='patient',\n",
    "                    row='mask',\n",
    "                    markers=True,\n",
    "                    dashes=True,\n",
    "                    sort=True,\n",
    "                    kind=\"line\")\n",
    "\n",
    "    # \"reverse\" the timepoint map for xtick labels\n",
    "    plt.xticks(list(timepoints_map.values()), list(timepoints_map.keys()))\n",
    "\n",
    "    plt.xlabel(\"Time point\")\n",
    "    plt.suptitle(feature)\n",
    "\n",
    "    plt.gcf().set_size_inches(15, 8)\n",
    "    \n",
    "    plt.savefig(os.path.join(fig_dir, feature + '.pdf'))    \n",
    "    plt.cla()\n",
    "    plt.close()"
   ]
  },
  {
   "cell_type": "code",
   "execution_count": null,
   "id": "2cfa4ef7",
   "metadata": {},
   "outputs": [],
   "source": []
  }
 ],
 "metadata": {
  "kernelspec": {
   "display_name": "Python 3 (ipykernel)",
   "language": "python",
   "name": "python3"
  },
  "language_info": {
   "codemirror_mode": {
    "name": "ipython",
    "version": 3
   },
   "file_extension": ".py",
   "mimetype": "text/x-python",
   "name": "python",
   "nbconvert_exporter": "python",
   "pygments_lexer": "ipython3",
   "version": "3.9.10"
  }
 },
 "nbformat": 4,
 "nbformat_minor": 5
}
